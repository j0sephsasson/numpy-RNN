{
 "cells": [
  {
   "cell_type": "code",
   "execution_count": 1,
   "metadata": {},
   "outputs": [],
   "source": [
    "import torch\n",
    "import torch.nn as nn\n",
    "import torch.autograd as autograd\n",
    "\n",
    "class RNN(nn.Module):\n",
    "    def __init__(self, input_size, hidden_size, output_size):\n",
    "        super(RNN, self).__init__()\n",
    "        self.input_size = input_size\n",
    "        self.hidden_size = hidden_size\n",
    "        self.output_size = output_size\n",
    "        \n",
    "        self.Wxh = torch.nn.Parameter(torch.randn(input_size, hidden_size))\n",
    "        self.Whh = torch.nn.Parameter(torch.randn(hidden_size, hidden_size))\n",
    "        self.Why = torch.nn.Parameter(torch.randn(hidden_size, output_size))\n",
    "        self.bh = torch.nn.Parameter(torch.randn(hidden_size))\n",
    "        self.by = torch.nn.Parameter(torch.randn(output_size))\n",
    "        \n",
    "    def forward(self, inputs, hprev):\n",
    "        hs, ys, ps = {}, {}, {}\n",
    "        hs[0] = hprev\n",
    "        for t in range(len(inputs)):\n",
    "            xs = inputs[t]\n",
    "            hs[t+1] = torch.tanh(torch.matmul(xs, self.Wxh) + torch.matmul(hs[t], self.Whh) + self.bh)\n",
    "            ys[t] = torch.matmul(hs[t+1], self.Why) + self.by\n",
    "            ps[t] = torch.softmax(ys[t], dim=1)\n",
    "        return ps, hs[len(inputs)]\n",
    "\n",
    "seq_len = 25\n",
    "hidden_size = 128\n",
    "num_layers = 2\n",
    "vocab_size = 65\n",
    "\n",
    "inputs = autograd.Variable(torch.randn(seq_len, vocab_size))\n",
    "hprev = autograd.Variable(torch.randn(num_layers, hidden_size))\n",
    "\n",
    "rnn = RNN(vocab_size, hidden_size, vocab_size)\n",
    "ps, hprev = rnn(inputs, hprev)\n",
    "\n",
    "# create the graph\n",
    "scalar_output = torch.sum(ps[len(inputs)-1])\n",
    "g = autograd.grad(scalar_output, rnn.parameters(), create_graph=True)\n"
   ]
  },
  {
   "cell_type": "code",
   "execution_count": 3,
   "metadata": {},
   "outputs": [
    {
     "data": {
      "text/plain": [
       "'rnn_dag.png'"
      ]
     },
     "execution_count": 3,
     "metadata": {},
     "output_type": "execute_result"
    }
   ],
   "source": [
    "from torchviz import make_dot\n",
    "make_dot(g).render('rnn_dag', format='png')"
   ]
  }
 ],
 "metadata": {
  "kernelspec": {
   "display_name": "dl",
   "language": "python",
   "name": "python3"
  },
  "language_info": {
   "codemirror_mode": {
    "name": "ipython",
    "version": 3
   },
   "file_extension": ".py",
   "mimetype": "text/x-python",
   "name": "python",
   "nbconvert_exporter": "python",
   "pygments_lexer": "ipython3",
   "version": "3.10.8 (main, Nov 24 2022, 08:09:04) [Clang 14.0.6 ]"
  },
  "orig_nbformat": 4,
  "vscode": {
   "interpreter": {
    "hash": "893acd4f14a2c224c2a8b6bb81033dcb316fface5b0b847151cf9bb644c700c2"
   }
  }
 },
 "nbformat": 4,
 "nbformat_minor": 2
}
