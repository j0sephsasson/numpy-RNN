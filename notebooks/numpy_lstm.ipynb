{
 "cells": [
  {
   "cell_type": "code",
   "execution_count": 59,
   "metadata": {},
   "outputs": [
    {
     "name": "stdout",
     "output_type": "stream",
     "text": [
      "IMPORTS DONE\n"
     ]
    }
   ],
   "source": [
    "## implementation & testing --> v1\n",
    "\n",
    "import torch\n",
    "import torch.nn as nn\n",
    "import numpy as np\n",
    "from torch.nn import functional as F\n",
    "torch.manual_seed(1337)\n",
    "\n",
    "print('IMPORTS DONE')"
   ]
  },
  {
   "cell_type": "code",
   "execution_count": 60,
   "metadata": {},
   "outputs": [
    {
     "name": "stdout",
     "output_type": "stream",
     "text": [
      "data has 1115394 characters, 65 unique.\n"
     ]
    }
   ],
   "source": [
    "## start with data\n",
    "data = open('/Users/joesasson/Desktop/open-source/numpy-RNN/data/input.txt', 'r').read() # should be simple plain text file\n",
    "\n",
    "chars = list(set(data))\n",
    "data_size, vocab_size = len(data), len(chars)\n",
    "\n",
    "print('data has {} characters, {} unique.'.format(data_size, vocab_size))\n",
    "\n",
    "char_to_idx = { ch:i for i,ch in enumerate(chars) }\n",
    "idx_to_char = { i:ch for i,ch in enumerate(chars) }"
   ]
  },
  {
   "cell_type": "code",
   "execution_count": 69,
   "metadata": {},
   "outputs": [],
   "source": [
    "from typing import Any\n",
    "np.random.seed(99)\n",
    "\n",
    "class RNN:\n",
    "    def __init__(self, hidden_size, vocab_size, seq_length):\n",
    "        self.name = 'RNN'\n",
    "        self.hidden_size = hidden_size\n",
    "        self.vocab_size = vocab_size\n",
    "\n",
    "        # model parameters\n",
    "        self.Wxh = np.random.randn(hidden_size, vocab_size)*0.01 # input to hidden\n",
    "        self.Whh = np.random.randn(hidden_size, hidden_size)*0.01 # hidden to hidden\n",
    "        self.Why = np.random.randn(vocab_size, hidden_size)*0.01 # hidden to output\n",
    "        self.bh = np.zeros((hidden_size, 1)) # hidden bias\n",
    "        self.by = np.zeros((vocab_size, 1)) # output bias\n",
    "\n",
    "        # memory variables for training (ada grad from karpathy's github)\n",
    "        self.iteration, self.pointer = 0, 0\n",
    "        self.mWxh = np.zeros_like(self.Wxh)\n",
    "        self.mWhh = np.zeros_like(self.Whh) \n",
    "        self.mWhy = np.zeros_like(self.Why)\n",
    "        self.mbh, self.mby = np.zeros_like(self.bh), np.zeros_like(self.by)\n",
    "        self.loss = -np.log(1.0/vocab_size)*seq_length # loss at iteration 0\n",
    "\n",
    "        self.running_loss = []\n",
    "\n",
    "    def __call__(self, *args: Any, **kwds: Any) -> Any:\n",
    "        \"\"\"RNN Forward Pass\"\"\"\n",
    "\n",
    "        x, y, hprev = kwds['inputs'], kwds['targets'], kwds['hprev']\n",
    "\n",
    "        lr = kwds['lr']\n",
    "\n",
    "        loss = 0\n",
    "        xs, hs, ys, ps = {}, {}, {}, {} # inputs, hidden state, output, probabilities\n",
    "        hs[-1] = np.copy(hprev)\n",
    "\n",
    "        # forward pass\n",
    "        for t in range(len(x)):\n",
    "            xs[t] = np.zeros((self.vocab_size,1)) # encode in 1-of-k representation\n",
    "            xs[t][x[t]] = 1\n",
    "            hs[t] = np.tanh(np.dot(self.Wxh, xs[t]) + np.dot(self.Whh, hs[t-1]) + self.bh) # hidden state\n",
    "            ys[t] = np.dot(self.Why, hs[t]) + self.by # unnormalized log probabilities for next chars\n",
    "            ps[t] = np.exp(ys[t]) / np.sum(np.exp(ys[t])) # probabilities for next chars\n",
    "            loss += -np.log(ps[t][y[t],0]) # softmax (cross-entropy loss)\n",
    "\n",
    "        # backward pass: compute gradients going backwards\n",
    "        dWxh, dWhh, dWhy = np.zeros_like(self.Wxh), np.zeros_like(self.Whh), np.zeros_like(self.Why)\n",
    "        dbh, dby = np.zeros_like(self.bh), np.zeros_like(self.by)\n",
    "        dhnext = np.zeros_like(hs[0])\n",
    "\n",
    "        for t in reversed(range(len(x))):\n",
    "            dy = np.copy(ps[t])\n",
    "            dy[y[t]] -= 1 # backprop into y. see http://cs231n.github.io/neural-networks-case-study/#grad if confused here\n",
    "            dWhy += np.dot(dy, hs[t].T)\n",
    "            dby += dy\n",
    "            dh = np.dot(self.Why.T, dy) + dhnext # backprop into h\n",
    "            dhraw = (1 - hs[t] * hs[t]) * dh # backprop through tanh nonlinearity\n",
    "            dbh += dhraw\n",
    "            dWxh += np.dot(dhraw, xs[t].T)\n",
    "            dWhh += np.dot(dhraw, hs[t-1].T)\n",
    "            dhnext = np.dot(self.Whh.T, dhraw)\n",
    "\n",
    "        for dparam in [dWxh, dWhh, dWhy, dbh, dby]:\n",
    "            np.clip(dparam, -5, 5, out=dparam) # clip to mitigate exploding gradients\n",
    "\n",
    "        # perform parameter update with Adagrad\n",
    "        for param, dparam, mem in zip([self.Wxh, self.Whh, \n",
    "                                        self.Why, self.bh, self.by], \n",
    "                                        [dWxh, dWhh, dWhy, dbh, dby], \n",
    "                                        [self.mWxh, self.mWhh, \n",
    "                                        self.mWhy, self.mbh, self.mby]):\n",
    "            \n",
    "            mem += dparam * dparam\n",
    "            param += -lr * dparam / np.sqrt(mem + 1e-8) # adagrad update\n",
    "\n",
    "        self.running_loss.append(loss)\n",
    "\n",
    "        return loss, hs[len(x)-1]"
   ]
  },
  {
   "cell_type": "code",
   "execution_count": 71,
   "metadata": {},
   "outputs": [
    {
     "name": "stdout",
     "output_type": "stream",
     "text": [
      "iter 0, loss: 33.395094070440024\n",
      "iter 1000, loss: 29.379218839627327\n",
      "iter 2000, loss: 25.17416419502023\n",
      "iter 3000, loss: 22.61450461254302\n",
      "iter 4000, loss: 20.660814605417286\n",
      "iter 5000, loss: 19.919109624973792\n",
      "iter 6000, loss: 19.15566225873854\n",
      "iter 7000, loss: 18.763769403137267\n",
      "iter 8000, loss: 18.095497552995337\n",
      "iter 9000, loss: 17.639523810450594\n",
      "iter 10000, loss: 17.340856935590434\n",
      "iter 11000, loss: 17.08206805146112\n",
      "iter 12000, loss: 17.066448585811024\n",
      "iter 13000, loss: 17.146039640819073\n",
      "iter 14000, loss: 17.271898579973332\n",
      "iter 15000, loss: 17.07930126331246\n",
      "iter 16000, loss: 17.09351224475144\n",
      "iter 17000, loss: 17.264674459927843\n",
      "iter 18000, loss: 17.25991142837826\n",
      "iter 19000, loss: 17.020276580985247\n",
      "iter 20000, loss: 17.854637302808857\n",
      "iter 21000, loss: 17.31078289614911\n",
      "iter 22000, loss: 17.2949790385274\n",
      "iter 23000, loss: 17.123846618796865\n",
      "iter 24000, loss: 17.004164940543735\n",
      "iter 25000, loss: 16.673152657095187\n",
      "iter 26000, loss: 16.719664934590718\n",
      "iter 27000, loss: 16.93228505591691\n",
      "iter 28000, loss: 16.67336190244974\n",
      "iter 29000, loss: 16.088525502167677\n",
      "iter 30000, loss: 16.12460127519586\n",
      "iter 31000, loss: 16.255358637187168\n",
      "iter 32000, loss: 16.272382927834517\n",
      "iter 33000, loss: 16.33104786361544\n",
      "iter 34000, loss: 16.247353924104374\n",
      "iter 35000, loss: 16.149662810515665\n",
      "iter 36000, loss: 15.119828539318647\n",
      "iter 37000, loss: 14.913340118541836\n",
      "iter 38000, loss: 16.114897569939014\n",
      "iter 39000, loss: 16.6251927780723\n",
      "iter 40000, loss: 16.690547799494446\n",
      "iter 41000, loss: 16.693005368264\n",
      "iter 42000, loss: 16.68277217194895\n",
      "iter 43000, loss: 16.343714345781372\n",
      "iter 44000, loss: 16.13933661530622\n",
      "iter 45000, loss: 16.285965780398154\n",
      "iter 46000, loss: 16.35887122025063\n",
      "iter 47000, loss: 16.009907268464307\n",
      "iter 48000, loss: 16.259060142524937\n",
      "iter 49000, loss: 16.0914697391273\n"
     ]
    }
   ],
   "source": [
    "## hyper-params\n",
    "seq_length = 8\n",
    "hidden_size = 100\n",
    "\n",
    "rnn = RNN(hidden_size=hidden_size, vocab_size=vocab_size, seq_length=seq_length)\n",
    "\n",
    "def train(rnn, epochs, data, lr=1e-1):\n",
    "\n",
    "    for _ in range(epochs):\n",
    "\n",
    "        # prepare inputs (we're sweeping from left to right in steps seq_length long)\n",
    "        if rnn.pointer+seq_length+1 >= len(data) or rnn.iteration == 0: \n",
    "            hprev = np.zeros((hidden_size,1)) # reset RNN memory\n",
    "            p = 0 # go from start of data\n",
    "\n",
    "        x = [char_to_idx[ch] for ch in data[rnn.pointer:rnn.pointer+seq_length]]\n",
    "        y = [char_to_idx[ch] for ch in data[rnn.pointer+1:rnn.pointer+seq_length+1]]\n",
    "\n",
    "        # forward / backward pass single batch through network\n",
    "        loss, hprev = rnn(inputs=x, targets=y, hprev=hprev, lr=lr)\n",
    "\n",
    "        # update loss\n",
    "        rnn.loss = rnn.loss * 0.999 + loss * 0.001\n",
    "\n",
    "        ## show progress now and then\n",
    "        if rnn.iteration % 1000 == 0: \n",
    "            print('iter {}, loss: {}'.format(rnn.iteration, rnn.loss))\n",
    "\n",
    "        rnn.pointer += seq_length # move data pointer\n",
    "        rnn.iteration += 1 # iteration counter \n",
    "\n",
    "        \n",
    "train(rnn=rnn, epochs=50000, data=data)"
   ]
  },
  {
   "cell_type": "code",
   "execution_count": 72,
   "metadata": {},
   "outputs": [
    {
     "data": {
      "text/plain": [
       "[<matplotlib.lines.Line2D at 0x7ff2d997b490>]"
      ]
     },
     "execution_count": 72,
     "metadata": {},
     "output_type": "execute_result"
    },
    {
     "data": {
      "image/png": "[encoded data removed]",
      "text/plain": [
       "<Figure size 640x480 with 1 Axes>"
      ]
     },
     "metadata": {},
     "output_type": "display_data"
    }
   ],
   "source": [
    "import matplotlib.pyplot as plt \n",
    "\n",
    "plt.plot(rnn.running_loss)"
   ]
  }
 ],
 "metadata": {
  "kernelspec": {
   "display_name": "dl",
   "language": "python",
   "name": "python3"
  },
  "language_info": {
   "codemirror_mode": {
    "name": "ipython",
    "version": 3
   },
   "file_extension": ".py",
   "mimetype": "text/x-python",
   "name": "python",
   "nbconvert_exporter": "python",
   "pygments_lexer": "ipython3",
   "version": "3.10.8"
  },
  "orig_nbformat": 4,
  "vscode": {
   "interpreter": {
    "hash": "893acd4f14a2c224c2a8b6bb81033dcb316fface5b0b847151cf9bb644c700c2"
   }
  }
 },
 "nbformat": 4,
 "nbformat_minor": 2
}
