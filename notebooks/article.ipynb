{
 "cells": [
  {
   "cell_type": "code",
   "execution_count": 1,
   "id": "8f1b50f0",
   "metadata": {},
   "outputs": [],
   "source": [
    "from lstm import LSTM\n",
    "from tokenizer import Vocabulary\n",
    "from dense import Dense\n",
    "from embedding import EmbeddingLayer\n",
    "import numpy as np"
   ]
  },
  {
   "cell_type": "code",
   "execution_count": 5,
   "id": "70c6803e",
   "metadata": {},
   "outputs": [
    {
     "name": "stdout",
     "output_type": "stream",
     "text": [
      "KERNEL SHAPE: (20, 400)\n",
      "RECURRENT KERNEL SHAPE: (100, 400)\n",
      "\n",
      "INPUT GATE SHAPE: (20, 100)\n",
      "RECURRENT INPUT GATE SHAPE: (100, 100)\n",
      "\n",
      "FORGET GATE SHAPE: (20, 100)\n",
      "RECURRENT FORGET GATE SHAPE: (100, 100)\n",
      "\n",
      "OUTPUT GATE SHAPE: (20, 100)\n",
      "RECURRENT OUTPUT GATE SHAPE: (100, 100)\n"
     ]
    }
   ],
   "source": [
    "lstm = LSTM(units=100, features=20, seq_length=25)\n",
    "\n",
    "print('KERNEL SHAPE:', lstm.kernel.shape)\n",
    "print('RECURRENT KERNEL SHAPE:', lstm.recurrent_kernel.shape)\n",
    "\n",
    "print()\n",
    "\n",
    "print('INPUT GATE SHAPE:', lstm.kernel_i.shape)\n",
    "print('RECURRENT INPUT GATE SHAPE:', lstm.recurrent_kernel_i.shape)\n",
    "\n",
    "print()\n",
    "\n",
    "print('FORGET GATE SHAPE:', lstm.kernel_f.shape)\n",
    "print('RECURRENT FORGET GATE SHAPE:', lstm.recurrent_kernel_f.shape)\n",
    "\n",
    "print()\n",
    "\n",
    "print('OUTPUT GATE SHAPE:', lstm.kernel_o.shape)\n",
    "print('RECURRENT OUTPUT GATE SHAPE:', lstm.recurrent_kernel_o.shape)"
   ]
  }
 ],
 "metadata": {
  "kernelspec": {
   "display_name": "Python 3",
   "language": "python",
   "name": "python3"
  },
  "language_info": {
   "codemirror_mode": {
    "name": "ipython",
    "version": 3
   },
   "file_extension": ".py",
   "mimetype": "text/x-python",
   "name": "python",
   "nbconvert_exporter": "python",
   "pygments_lexer": "ipython3",
   "version": "3.7.7"
  }
 },
 "nbformat": 4,
 "nbformat_minor": 5
}
