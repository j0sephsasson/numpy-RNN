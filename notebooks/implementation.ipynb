{
 "cells": [
  {
   "cell_type": "code",
   "execution_count": 1,
   "id": "b98e7db5",
   "metadata": {},
   "outputs": [],
   "source": [
    "from lstm import LSTM\n",
    "from tokenizer import Vocabulary\n",
    "from dense import Dense\n",
    "from embedding import EmbeddingLayer\n",
    "import numpy as np"
   ]
  },
  {
   "cell_type": "code",
   "execution_count": 6,
   "id": "e09cdbd4",
   "metadata": {},
   "outputs": [],
   "source": [
    "class LSTMSequential:\n",
    "    def __init__(self):\n",
    "        self.network = {}\n",
    "        self.caches = []\n",
    "        self.states = []\n",
    "        self.kernel_gradients = []\n",
    "        self.recurrent_kernel_gradients = []\n",
    "        self.state_gradients = []\n",
    "        self.embedding_weights = None\n",
    "        self.dense_weights = None\n",
    "        \n",
    "    def add(self, layer):\n",
    "        self.network[layer.name] = layer\n",
    "        \n",
    "    def _init_hidden(self):\n",
    "        hidden = self.network['LSTM'].hidden_dim\n",
    "        state = {'h':np.zeros((hidden,)), 'c':np.zeros((hidden,))}\n",
    "    \n",
    "        return state\n",
    "    \n",
    "    def single_forward(self, data):\n",
    "        init_state = self._init_hidden()\n",
    "        \n",
    "        lstm_inp = self.network['Embedding'].predict(data)\n",
    "        cache, state = self.network['LSTM'].forward(lstm_inp, 0, init_state)\n",
    "        final = self.network['Dense'].forward(state['h'])\n",
    "        \n",
    "        return lstm_inp, state['h'], final\n",
    "    \n",
    "    def single_backward(self, prediction, actual):\n",
    "        self.network['LSTM'].backward(prediction, actual, 0)\n",
    "        \n",
    "model = LSTMSequential()\n",
    "\n",
    "model.add(EmbeddingLayer(vocab_size=2855, hidden_dim=20))\n",
    "model.add(LSTM(units=100, features=20, seq_length=25))\n",
    "model.add(Dense(2855))\n",
    "\n",
    "test = np.array([   8,   11,  273,    2,   98,   27,  464,    6,  341,   74,   15,\n",
    "        416,   17,    0, 1070,    1,  342,  127,   50,  132,   53,  588,\n",
    "          4,   19,  837])\n",
    "\n",
    "lstm_inp, lstm_out, final = model.single_forward(test)\n",
    "# model.single_backward(final, 61)"
   ]
  },
  {
   "cell_type": "code",
   "execution_count": 7,
   "id": "473796b3",
   "metadata": {},
   "outputs": [
    {
     "data": {
      "text/plain": [
       "((25, 20), (25, 100), (25, 2855))"
      ]
     },
     "execution_count": 7,
     "metadata": {},
     "output_type": "execute_result"
    }
   ],
   "source": [
    "lstm_inp.shape, lstm_out.shape, final.shape"
   ]
  }
 ],
 "metadata": {
  "kernelspec": {
   "display_name": "Python 3",
   "language": "python",
   "name": "python3"
  },
  "language_info": {
   "codemirror_mode": {
    "name": "ipython",
    "version": 3
   },
   "file_extension": ".py",
   "mimetype": "text/x-python",
   "name": "python",
   "nbconvert_exporter": "python",
   "pygments_lexer": "ipython3",
   "version": "3.7.7"
  }
 },
 "nbformat": 4,
 "nbformat_minor": 5
}
