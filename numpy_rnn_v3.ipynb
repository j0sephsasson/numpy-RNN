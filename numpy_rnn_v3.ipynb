{
 "cells": [
  {
   "cell_type": "markdown",
   "id": "b654d0d9",
   "metadata": {},
   "source": [
    "### IMPORTS"
   ]
  },
  {
   "cell_type": "code",
   "execution_count": 5,
   "id": "49b6364f",
   "metadata": {},
   "outputs": [],
   "source": [
    "import numpy as np, re"
   ]
  },
  {
   "cell_type": "markdown",
   "id": "3f0f1b85",
   "metadata": {},
   "source": [
    "### DATA"
   ]
  },
  {
   "cell_type": "code",
   "execution_count": 6,
   "id": "fb68e218",
   "metadata": {},
   "outputs": [],
   "source": [
    "f = open(r\"C:\\Users\\12482\\Desktop\\alice_wonderland.txt\", 'r', encoding='utf-8').readlines()"
   ]
  },
  {
   "cell_type": "markdown",
   "id": "ac82f9ba",
   "metadata": {},
   "source": [
    "### TOKENIZER & EMBEDDING CLASSES"
   ]
  },
  {
   "cell_type": "code",
   "execution_count": 7,
   "id": "47903f6f",
   "metadata": {},
   "outputs": [],
   "source": [
    "from tokenizer import Vocabulary\n",
    "from embedding import EmbeddingLayer"
   ]
  },
  {
   "cell_type": "markdown",
   "id": "602ad3d4",
   "metadata": {},
   "source": [
    "### LSTM NETWORK"
   ]
  },
  {
   "cell_type": "code",
   "execution_count": 8,
   "id": "a88a74e7",
   "metadata": {},
   "outputs": [
    {
     "data": {
      "text/plain": [
       "(2829, 25, 20)"
      ]
     },
     "execution_count": 8,
     "metadata": {},
     "output_type": "execute_result"
    }
   ],
   "source": [
    "## create vocabulary + tokenize\n",
    "v = Vocabulary()\n",
    "token_sequences = v.tokenize(f, 26)\n",
    "\n",
    "## create embedding layer\n",
    "e = EmbeddingLayer(vocab_size=v.size, hidden_dim=20) ## hidden_dim is a hyper-param\n",
    "\n",
    "## create X & Y datasets\n",
    "X = token_sequences[:,:-1]\n",
    "y = token_sequences[:,-1]\n",
    "\n",
    "lstm_inputs = e.predict(X)\n",
    "lstm_inputs.shape ## batch_size x seq_length x dimensionality"
   ]
  },
  {
   "cell_type": "code",
   "execution_count": 13,
   "id": "84859c0d",
   "metadata": {},
   "outputs": [],
   "source": [
    "class LSTM:\n",
    "    def __init__(self, units, seq_length, vocab_size, features):\n",
    "        \"\"\"\n",
    "        Initializes the LSTM layer\n",
    "        \n",
    "        Args:\n",
    "            Units: int (num of LSTM units in layer)\n",
    "            features: int (dimensionality of token embeddings)\n",
    "            seq_length: int (num of tokens at each timestep)\n",
    "            vocab_size: int (num of unique tokens in vocab)\n",
    "        \"\"\"\n",
    "        self.hidden_dim = units\n",
    "        self.dimensionality = features\n",
    "        self.seq_length = seq_length\n",
    "        self.vocab_size = vocab_size\n",
    "        \n",
    "        # Initialize hidden state as zeros\n",
    "        self.h = np.zeros((units, features))\n",
    "        self.c = np.zeros((units, features))\n",
    "        \n",
    "    def _init_orthogonal(self, param):\n",
    "        \"\"\"\n",
    "        Initializes weight parameters orthogonally.\n",
    "\n",
    "        Refer to this paper for an explanation of this initialization:\n",
    "        https://arxiv.org/abs/1312.6120\n",
    "        \"\"\"\n",
    "        if param.ndim < 2:\n",
    "            raise ValueError(\"Only parameters with 2 or more dimensions are supported.\")\n",
    "\n",
    "        rows, cols = param.shape\n",
    "\n",
    "        new_param = np.random.randn(rows, cols)\n",
    "\n",
    "        if rows < cols:\n",
    "            new_param = new_param.T\n",
    "\n",
    "        # Compute QR factorization\n",
    "        q, r = np.linalg.qr(new_param)\n",
    "\n",
    "        # Make Q uniform according to https://arxiv.org/pdf/math-ph/0609050.pdf\n",
    "        d = np.diag(r, 0)\n",
    "        ph = np.sign(d)\n",
    "        q *= ph\n",
    "\n",
    "        if rows < cols:\n",
    "            q = q.T\n",
    "\n",
    "        new_param = q\n",
    "\n",
    "        return new_param\n",
    "    \n",
    "    def _init_params(self):\n",
    "        \"\"\"\n",
    "        Initializes the weight and biases of the layer\n",
    "        \n",
    "        Initialize weights according to https://arxiv.org/abs/1312.6120 (_init_orthogonal)\n",
    "        \"\"\"\n",
    "        \n",
    "        # Weight matrix (forget gate)\n",
    "        self.W_f = self._init_orthogonal(np.random.randn(self.hidden_dim , self.seq_length))\n",
    "\n",
    "        # Bias for forget gate\n",
    "        self.b_f = np.zeros((self.hidden_dim , 1))\n",
    "\n",
    "        # Weight matrix (input gate)\n",
    "        self.W_i = self._init_orthogonal(np.random.randn(self.hidden_dim , self.seq_length))\n",
    "\n",
    "        # Bias for input gate\n",
    "        self.b_i = np.zeros((self.hidden_dim , 1))\n",
    "\n",
    "        # Weight matrix (candidate)\n",
    "        self.W_g = self._init_orthogonal(np.random.randn(self.hidden_dim , self.seq_length))\n",
    "\n",
    "        # Bias for candidate\n",
    "        self.b_g = np.zeros((self.hidden_dim , 1))\n",
    "\n",
    "        # Weight matrix of the output gate\n",
    "        self.W_o = self._init_orthogonal(np.random.randn(self.hidden_dim , self.seq_length))\n",
    "        self.b_o = np.zeros((self.hidden_dim , 1))\n",
    "\n",
    "        # Weight matrix relating the hidden-state to the output\n",
    "        self.W_v = self._init_orthogonal(np.random.randn(self.vocab_size, self.hidden_dim))\n",
    "        self.b_v = np.zeros((self.vocab_size, 1))"
   ]
  },
  {
   "cell_type": "code",
   "execution_count": 14,
   "id": "e3468a5c",
   "metadata": {},
   "outputs": [],
   "source": [
    "lstm = LSTM(100, v.seq_length, v.size, e.hidden_dim)\n",
    "lstm._init_params()"
   ]
  },
  {
   "cell_type": "markdown",
   "id": "67a607ab",
   "metadata": {},
   "source": [
    "### EXAMPLES"
   ]
  },
  {
   "cell_type": "code",
   "execution_count": 16,
   "id": "4b473901",
   "metadata": {},
   "outputs": [
    {
     "data": {
      "text/plain": [
       "(125, 20)"
      ]
     },
     "execution_count": 16,
     "metadata": {},
     "output_type": "execute_result"
    }
   ],
   "source": [
    "batch_input_1 = lstm_inputs[0]\n",
    "z = np.row_stack((batch_input_1, lstm.h))\n",
    "\n",
    "z.shape"
   ]
  },
  {
   "cell_type": "code",
   "execution_count": null,
   "id": "a0a289dc",
   "metadata": {},
   "outputs": [],
   "source": []
  }
 ],
 "metadata": {
  "kernelspec": {
   "display_name": "Python 3",
   "language": "python",
   "name": "python3"
  },
  "language_info": {
   "codemirror_mode": {
    "name": "ipython",
    "version": 3
   },
   "file_extension": ".py",
   "mimetype": "text/x-python",
   "name": "python",
   "nbconvert_exporter": "python",
   "pygments_lexer": "ipython3",
   "version": "3.7.7"
  }
 },
 "nbformat": 4,
 "nbformat_minor": 5
}
